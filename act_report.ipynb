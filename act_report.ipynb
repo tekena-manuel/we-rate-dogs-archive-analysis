{
 "cells": [
  {
   "cell_type": "markdown",
   "id": "612306bf",
   "metadata": {},
   "source": [
    "# Analysis Report\n",
    "1. What is the most retweeted tweet and check what dog it is about\n",
    "2. Check what dogstage No.1 is\n",
    "3. what dog stage has generally better ratings\n",
    "4. which dog has the best rating\n",
    "\n"
   ]
  },
  {
   "cell_type": "markdown",
   "id": "87cabebc",
   "metadata": {},
   "source": [
    "During my analysis, I attempted  to answer 4 questions  <br />\n",
    "\n"
   ]
  },
  {
   "cell_type": "markdown",
   "id": "939f552c",
   "metadata": {},
   "source": [
    "What is the most retweeted tweet and which dog is the tweet about? In order to get the answer to this question, we will be using two tables which were during my wrangling after splitting my original Twitter archive table into two because there are two elements that can be observed separately which are the dogs and the tweets. I queried the tweet count data frame using .loc and idmax() to locate the row with the highest number of retweets. <br />\n"
   ]
  },
  {
   "cell_type": "markdown",
   "id": "10267f05",
   "metadata": {},
   "source": [
    "After locating this row i used the tweet_id which is the foreign key here to find the dog stage of the dog the tweet was about and it was doggo.<br />\n",
    "\n"
   ]
  },
  {
   "cell_type": "markdown",
   "id": "b32b49f2",
   "metadata": {},
   "source": [
    "what dog stage has generally better ratings? In order to get the answer to this question, we will be plotting a scatter plot graph to show the relationship between the ratings and the different dog stages. To get our ratings we will be using the numerator score because that is the actual score as opposed to the denominator which is the total score. After plotting the scatter plot it occurred to me that the only dog stage in the data set was doggo. Doggo dogs have a relatably low rating compared to other dogs but because the other dogs have empty dog stages we can't identify what dog stages they are.<br />\n",
    "\n"
   ]
  },
  {
   "cell_type": "code",
   "execution_count": 10,
   "id": "fd604525",
   "metadata": {},
   "outputs": [
    {
     "data": {
      "image/png": "[encoded data removed]",
      "text/plain": [
       "<Figure size 432x288 with 1 Axes>"
      ]
     },
     "metadata": {
      "needs_background": "light"
     },
     "output_type": "display_data"
    }
   ],
   "source": [
    "# plot diagram show below"
   ]
  },
  {
   "cell_type": "markdown",
   "id": "100f0208",
   "metadata": {},
   "source": [
    "Lastly, I attempted to check which dog had the best rating in the we rate dogs archive. To achieve this I used a similar code to question to return the row with max value in rating and the dog's name is Atticus"
   ]
  }
 ],
 "metadata": {
  "kernelspec": {
   "display_name": "Python 3",
   "language": "python",
   "name": "python3"
  },
  "language_info": {
   "codemirror_mode": {
    "name": "ipython",
    "version": 3
   },
   "file_extension": ".py",
   "mimetype": "text/x-python",
   "name": "python",
   "nbconvert_exporter": "python",
   "pygments_lexer": "ipython3",
   "version": "3.8.8"
  }
 },
 "nbformat": 4,
 "nbformat_minor": 5
}
