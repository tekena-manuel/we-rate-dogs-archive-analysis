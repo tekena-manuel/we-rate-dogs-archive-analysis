{
 "cells": [
  {
   "cell_type": "markdown",
   "id": "1886d1d5",
   "metadata": {},
   "source": [
    "# WRANGLE REPORT\n",
    "My efforts to gather, assess and clean this dataset were met with many challenges, and I will be going over every significant challenge in this report. <br />\n",
    "\n",
    "\n"
   ]
  },
  {
   "cell_type": "markdown",
   "id": "18d2d188",
   "metadata": {},
   "source": [
    "The first real challenge for me was getting approval from Twitter which I didn't receive so I proceeded with the data that was made available instead. I struggled to read tweet_json.txt until I realized I had to change it from writing the file to reading the file and then I realized I was calling the wrong file tweet_json instead of tweet-JSON. <br />\n",
    "\n"
   ]
  },
  {
   "cell_type": "markdown",
   "id": "77ebe677",
   "metadata": {},
   "source": [
    "The next significant set of problems I faced was during the cleaning stage. In my attempt to clean the rating denominator I finally got the code to work(to every number not equal to 10 and change it to 10) without any error message but when I run a test code nothing seemed to have changed I was stuck here for a couple of days until I realized I was testing with the original dataset instead of the copied dataset. The next cleaning difficulty I had was changing the datatype of timestamp to DateTime. I couldn't get the code to work I kept getting this error “<class 'function'> is not convertible to DateTime” I  referred to a lot of websites that kept offering solutions but none of them worked. Tolu my session lead suggested I separate the date from the time in two different columns as I attempted to do this I realized the data in timestamp was compromised (it had changed to something else I didn't know how or why) so I copied the code I was running to a different notebook on the same table and it worked because of this I had to start afresh because the notebook I was working on seemed to have some of the data corrupted. <br />\n",
    "\n"
   ]
  },
  {
   "cell_type": "markdown",
   "id": "0ed83601",
   "metadata": {},
   "source": [
    "I also felt it should seperate my origial twitter archive dataset into two data sets one containing the information on dogs and the other containing information on tweets"
   ]
  },
  {
   "cell_type": "markdown",
   "id": "ea9cab20",
   "metadata": {},
   "source": [
    "I did not particularly run into any major problems during the analysis stage however I realized that the raw data has errors that the analyst cannot correct. During my cleaning, I combined all the dog stages into one and while analyzing I realized that only one stage has information the rest are empty I assume that this is not supposed to be the case and that the data must be missing.\n"
   ]
  },
  {
   "cell_type": "markdown",
   "id": "52dd0e55",
   "metadata": {},
   "source": [
    "This is not everything i did on the dataset but these are the major changes is made in order to make my dataset tidier and of higher quality"
   ]
  },
  {
   "cell_type": "code",
   "execution_count": null,
   "id": "d1c28f14",
   "metadata": {},
   "outputs": [],
   "source": []
  }
 ],
 "metadata": {
  "kernelspec": {
   "display_name": "Python 3",
   "language": "python",
   "name": "python3"
  },
  "language_info": {
   "codemirror_mode": {
    "name": "ipython",
    "version": 3
   },
   "file_extension": ".py",
   "mimetype": "text/x-python",
   "name": "python",
   "nbconvert_exporter": "python",
   "pygments_lexer": "ipython3",
   "version": "3.8.8"
  }
 },
 "nbformat": 4,
 "nbformat_minor": 5
}
